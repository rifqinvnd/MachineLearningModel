{
  "nbformat": 4,
  "nbformat_minor": 0,
  "metadata": {
    "colab": {
      "name": "Last.ipynb",
      "provenance": [],
      "collapsed_sections": []
    },
    "kernelspec": {
      "name": "python3",
      "display_name": "Python 3"
    },
    "language_info": {
      "name": "python"
    }
  },
  "cells": [
    {
      "cell_type": "code",
      "metadata": {
        "id": "jZF8-01SUHvs"
      },
      "source": [
        "import os\n",
        "\n",
        "os.environ['KAGGLE_USERNAME'] = 'rifqinovandi'\n",
        "os.environ['KAGGLE_KEY'] = 'd50fccc96f3e2238ad06dac3037b103c'"
      ],
      "execution_count": 19,
      "outputs": []
    },
    {
      "cell_type": "code",
      "metadata": {
        "colab": {
          "base_uri": "https://localhost:8080/"
        },
        "id": "zWFYxWL5URWT",
        "outputId": "6cecbacf-25b7-45ae-9ed3-5016dae0f4df"
      },
      "source": [
        "!kaggle datasets download -d alifrahman/main-dataset"
      ],
      "execution_count": 20,
      "outputs": [
        {
          "output_type": "stream",
          "text": [
            "main-dataset.zip: Skipping, found more recently modified local copy (use --force to force download)\n"
          ],
          "name": "stdout"
        }
      ]
    },
    {
      "cell_type": "code",
      "metadata": {
        "id": "XcwFgr0EUVac"
      },
      "source": [
        "import zipfile\n",
        "\n",
        "files = \"/content/main-dataset.zip\"\n",
        "zip = zipfile.ZipFile(files, 'r')\n",
        "zip.extractall('/tmp')\n",
        "zip.close()"
      ],
      "execution_count": 21,
      "outputs": []
    },
    {
      "cell_type": "code",
      "metadata": {
        "colab": {
          "base_uri": "https://localhost:8080/"
        },
        "id": "gLKwuPDBWryg",
        "outputId": "85c09ccc-2e77-4bee-b72f-fe50ed0b7f20"
      },
      "source": [
        "base_dir = '/tmp/main_dataset'\n",
        "os.listdir(base_dir)"
      ],
      "execution_count": 22,
      "outputs": [
        {
          "output_type": "execute_result",
          "data": {
            "text/plain": [
              "['validation', 'train', 'test']"
            ]
          },
          "metadata": {
            "tags": []
          },
          "execution_count": 22
        }
      ]
    },
    {
      "cell_type": "code",
      "metadata": {
        "colab": {
          "base_uri": "https://localhost:8080/"
        },
        "id": "pLd4jhXMX0mm",
        "outputId": "561f30fd-43de-49ba-93ec-829313f1758c"
      },
      "source": [
        "train_dir = os.path.join(base_dir, 'train')\n",
        "os.listdir(train_dir)"
      ],
      "execution_count": 28,
      "outputs": [
        {
          "output_type": "execute_result",
          "data": {
            "text/plain": [
              "['EOSINOPHIL', 'MONOCYTE', 'LYMPHOCYTE', 'NEUTROPHIL']"
            ]
          },
          "metadata": {
            "tags": []
          },
          "execution_count": 28
        }
      ]
    },
    {
      "cell_type": "code",
      "metadata": {
        "colab": {
          "base_uri": "https://localhost:8080/"
        },
        "id": "oPx_wSebbDhH",
        "outputId": "bfaee39f-38ac-4ea1-ed6d-3e2c989c6177"
      },
      "source": [
        "test_dir = os.path.join(base_dir, 'test')\n",
        "os.listdir(train_dir)"
      ],
      "execution_count": 29,
      "outputs": [
        {
          "output_type": "execute_result",
          "data": {
            "text/plain": [
              "['EOSINOPHIL', 'MONOCYTE', 'LYMPHOCYTE', 'NEUTROPHIL']"
            ]
          },
          "metadata": {
            "tags": []
          },
          "execution_count": 29
        }
      ]
    },
    {
      "cell_type": "code",
      "metadata": {
        "colab": {
          "base_uri": "https://localhost:8080/"
        },
        "id": "M7IA5zSpb4jl",
        "outputId": "01705700-bbf9-446c-d46c-17e842c87140"
      },
      "source": [
        "total_image = len(list(glob.iglob(\"/tmp/main_dataset/*/*/*.*\", recursive=True)))\n",
        "print(\"Total Data Image JPEG       : \",total_image)\n",
        "\n",
        "total_train_data = len(list(glob.iglob(\"/tmp/main_dataset/train/*/*.*\", recursive=True)))\n",
        "total_test_data = len(list(glob.iglob(\"/tmp/main_dataset/test/*/*.*\", recursive=True)))\n",
        "print(\"Total Data Image train      : \",total_train_data)\n",
        "print(\"Total Data Image test       : \",total_test_data)"
      ],
      "execution_count": 30,
      "outputs": [
        {
          "output_type": "stream",
          "text": [
            "Total Data Image JPEG       :  12444\n",
            "Total Data Image train      :  9957\n",
            "Total Data Image test       :  600\n"
          ],
          "name": "stdout"
        }
      ]
    },
    {
      "cell_type": "code",
      "metadata": {
        "id": "AC2xRolWYPW1"
      },
      "source": [
        "train_EOSI_dir = os.path.join(train_dir, 'EOSINOPHIL')\n",
        "train_MONO_dir = os.path.join(train_dir, 'MONOCYTE')\n",
        "train_LYMP_dir = os.path.join(train_dir, 'LYMPHOCYTE')\n",
        "train_NEUT_dir = os.path.join(train_dir, 'NEUTROPHIL')\n",
        "val_EOSI_dir = os.path.join(validation_dir, 'EOSINOPHIL')\n",
        "val_MONO_dir = os.path.join(validation_dir, 'MONOCYTE')\n",
        "val_LYMP_dir = os.path.join(validation_dir, 'LYMPHOCYTE')\n",
        "val_NEUT_dir = os.path.join(validation_dir, 'NEUTROPHIL')"
      ],
      "execution_count": 18,
      "outputs": []
    },
    {
      "cell_type": "code",
      "metadata": {
        "id": "1Ed9ZzoOZ9rH"
      },
      "source": [
        ""
      ],
      "execution_count": null,
      "outputs": []
    }
  ]
}