{
  "nbformat": 4,
  "nbformat_minor": 0,
  "metadata": {
    "colab": {
      "name": "BinaryClassif.ipynb",
      "provenance": []
    },
    "kernelspec": {
      "name": "python3",
      "display_name": "Python 3"
    },
    "language_info": {
      "name": "python"
    }
  },
  "cells": [
    {
      "cell_type": "code",
      "metadata": {
        "id": "GOwbdxGSjg8F"
      },
      "source": [
        "import pandas as pd\n",
        "df = pd.read_csv('yelp_labelled.txt', names=['sentence', 'label'], sep='\\t')"
      ],
      "execution_count": 1,
      "outputs": []
    },
    {
      "cell_type": "code",
      "metadata": {
        "colab": {
          "base_uri": "https://localhost:8080/",
          "height": 203
        },
        "id": "-N4SVytZkV5Y",
        "outputId": "29bf6aa2-3148-495b-e5a4-16dba48c6a27"
      },
      "source": [
        "df.tail()"
      ],
      "execution_count": 2,
      "outputs": [
        {
          "output_type": "execute_result",
          "data": {
            "text/html": [
              "<div>\n",
              "<style scoped>\n",
              "    .dataframe tbody tr th:only-of-type {\n",
              "        vertical-align: middle;\n",
              "    }\n",
              "\n",
              "    .dataframe tbody tr th {\n",
              "        vertical-align: top;\n",
              "    }\n",
              "\n",
              "    .dataframe thead th {\n",
              "        text-align: right;\n",
              "    }\n",
              "</style>\n",
              "<table border=\"1\" class=\"dataframe\">\n",
              "  <thead>\n",
              "    <tr style=\"text-align: right;\">\n",
              "      <th></th>\n",
              "      <th>sentence</th>\n",
              "      <th>label</th>\n",
              "    </tr>\n",
              "  </thead>\n",
              "  <tbody>\n",
              "    <tr>\n",
              "      <th>995</th>\n",
              "      <td>I think food should have flavor and texture an...</td>\n",
              "      <td>0</td>\n",
              "    </tr>\n",
              "    <tr>\n",
              "      <th>996</th>\n",
              "      <td>Appetite instantly gone.</td>\n",
              "      <td>0</td>\n",
              "    </tr>\n",
              "    <tr>\n",
              "      <th>997</th>\n",
              "      <td>Overall I was not impressed and would not go b...</td>\n",
              "      <td>0</td>\n",
              "    </tr>\n",
              "    <tr>\n",
              "      <th>998</th>\n",
              "      <td>The whole experience was underwhelming, and I ...</td>\n",
              "      <td>0</td>\n",
              "    </tr>\n",
              "    <tr>\n",
              "      <th>999</th>\n",
              "      <td>Then, as if I hadn't wasted enough of my life ...</td>\n",
              "      <td>0</td>\n",
              "    </tr>\n",
              "  </tbody>\n",
              "</table>\n",
              "</div>"
            ],
            "text/plain": [
              "                                              sentence  label\n",
              "995  I think food should have flavor and texture an...      0\n",
              "996                           Appetite instantly gone.      0\n",
              "997  Overall I was not impressed and would not go b...      0\n",
              "998  The whole experience was underwhelming, and I ...      0\n",
              "999  Then, as if I hadn't wasted enough of my life ...      0"
            ]
          },
          "metadata": {
            "tags": []
          },
          "execution_count": 2
        }
      ]
    },
    {
      "cell_type": "code",
      "metadata": {
        "id": "CKH8ItmakXu5"
      },
      "source": [
        "from sklearn.model_selection import train_test_split\n",
        "kalimat = df['sentence'].values\n",
        "y = df['label'].values\n",
        "kalimat_latih, kalimat_test, y_latih, y_test = train_test_split(kalimat, y, test_size=0.2)"
      ],
      "execution_count": 3,
      "outputs": []
    },
    {
      "cell_type": "code",
      "metadata": {
        "id": "syN8uTw3kcbc"
      },
      "source": [
        "from tensorflow.keras.preprocessing.text import Tokenizer\n",
        "from tensorflow.keras.preprocessing.sequence import pad_sequences\n",
        " \n",
        "tokenizer = Tokenizer(num_words=250, oov_token='x')\n",
        "tokenizer.fit_on_texts(kalimat_latih) \n",
        "tokenizer.fit_on_texts(kalimat_test)\n",
        " \n",
        "sekuens_latih = tokenizer.texts_to_sequences(kalimat_latih)\n",
        "sekuens_test = tokenizer.texts_to_sequences(kalimat_test)\n",
        " \n",
        "padded_latih = pad_sequences(sekuens_latih) \n",
        "padded_test = pad_sequences(sekuens_test)"
      ],
      "execution_count": 4,
      "outputs": []
    },
    {
      "cell_type": "code",
      "metadata": {
        "id": "bIXcNXZgkk6_"
      },
      "source": [
        "import tensorflow as tf\n",
        "model = tf.keras.Sequential([\n",
        "    tf.keras.layers.Embedding(250, 16, input_length=20),\n",
        "    tf.keras.layers.GlobalAveragePooling1D(),\n",
        "    tf.keras.layers.Dense(24, activation='relu'),\n",
        "    tf.keras.layers.Dense(1, activation='sigmoid')\n",
        "])\n",
        "model.compile(loss='binary_crossentropy',optimizer='adam',metrics=['accuracy'])"
      ],
      "execution_count": 5,
      "outputs": []
    },
    {
      "cell_type": "code",
      "metadata": {
        "colab": {
          "base_uri": "https://localhost:8080/"
        },
        "id": "sDC7E0ZylBmU",
        "outputId": "cc768e03-2bdc-4531-a360-7f3d2717f05c"
      },
      "source": [
        "num_epochs = 30\n",
        "history = model.fit(padded_latih, y_latih, epochs=num_epochs, \n",
        "                    validation_data=(padded_test, y_test), verbose=2)"
      ],
      "execution_count": 6,
      "outputs": [
        {
          "output_type": "stream",
          "text": [
            "Epoch 1/30\n",
            "WARNING:tensorflow:Model was constructed with shape (None, 20) for input KerasTensor(type_spec=TensorSpec(shape=(None, 20), dtype=tf.float32, name='embedding_input'), name='embedding_input', description=\"created by layer 'embedding_input'\"), but it was called on an input with incompatible shape (32, 32).\n",
            "WARNING:tensorflow:Model was constructed with shape (None, 20) for input KerasTensor(type_spec=TensorSpec(shape=(None, 20), dtype=tf.float32, name='embedding_input'), name='embedding_input', description=\"created by layer 'embedding_input'\"), but it was called on an input with incompatible shape (32, 32).\n",
            "WARNING:tensorflow:Model was constructed with shape (None, 20) for input KerasTensor(type_spec=TensorSpec(shape=(None, 20), dtype=tf.float32, name='embedding_input'), name='embedding_input', description=\"created by layer 'embedding_input'\"), but it was called on an input with incompatible shape (None, 26).\n",
            "25/25 - 1s - loss: 0.6927 - accuracy: 0.5063 - val_loss: 0.6923 - val_accuracy: 0.4850\n",
            "Epoch 2/30\n",
            "25/25 - 0s - loss: 0.6911 - accuracy: 0.5825 - val_loss: 0.6909 - val_accuracy: 0.5750\n",
            "Epoch 3/30\n",
            "25/25 - 0s - loss: 0.6887 - accuracy: 0.6150 - val_loss: 0.6888 - val_accuracy: 0.6100\n",
            "Epoch 4/30\n",
            "25/25 - 0s - loss: 0.6851 - accuracy: 0.6250 - val_loss: 0.6854 - val_accuracy: 0.6350\n",
            "Epoch 5/30\n",
            "25/25 - 0s - loss: 0.6799 - accuracy: 0.6637 - val_loss: 0.6804 - val_accuracy: 0.6450\n",
            "Epoch 6/30\n",
            "25/25 - 0s - loss: 0.6719 - accuracy: 0.6837 - val_loss: 0.6738 - val_accuracy: 0.6450\n",
            "Epoch 7/30\n",
            "25/25 - 0s - loss: 0.6600 - accuracy: 0.6975 - val_loss: 0.6634 - val_accuracy: 0.6700\n",
            "Epoch 8/30\n",
            "25/25 - 0s - loss: 0.6451 - accuracy: 0.7163 - val_loss: 0.6517 - val_accuracy: 0.6850\n",
            "Epoch 9/30\n",
            "25/25 - 0s - loss: 0.6254 - accuracy: 0.7312 - val_loss: 0.6339 - val_accuracy: 0.7200\n",
            "Epoch 10/30\n",
            "25/25 - 0s - loss: 0.6010 - accuracy: 0.7437 - val_loss: 0.6150 - val_accuracy: 0.7350\n",
            "Epoch 11/30\n",
            "25/25 - 0s - loss: 0.5743 - accuracy: 0.7625 - val_loss: 0.5937 - val_accuracy: 0.7300\n",
            "Epoch 12/30\n",
            "25/25 - 0s - loss: 0.5453 - accuracy: 0.8000 - val_loss: 0.5738 - val_accuracy: 0.7500\n",
            "Epoch 13/30\n",
            "25/25 - 0s - loss: 0.5179 - accuracy: 0.8150 - val_loss: 0.5542 - val_accuracy: 0.7550\n",
            "Epoch 14/30\n",
            "25/25 - 0s - loss: 0.4892 - accuracy: 0.8325 - val_loss: 0.5378 - val_accuracy: 0.7500\n",
            "Epoch 15/30\n",
            "25/25 - 0s - loss: 0.4636 - accuracy: 0.8288 - val_loss: 0.5238 - val_accuracy: 0.7600\n",
            "Epoch 16/30\n",
            "25/25 - 0s - loss: 0.4402 - accuracy: 0.8512 - val_loss: 0.5114 - val_accuracy: 0.7550\n",
            "Epoch 17/30\n",
            "25/25 - 0s - loss: 0.4179 - accuracy: 0.8475 - val_loss: 0.5004 - val_accuracy: 0.7500\n",
            "Epoch 18/30\n",
            "25/25 - 0s - loss: 0.4003 - accuracy: 0.8525 - val_loss: 0.4939 - val_accuracy: 0.7550\n",
            "Epoch 19/30\n",
            "25/25 - 0s - loss: 0.3850 - accuracy: 0.8625 - val_loss: 0.4922 - val_accuracy: 0.7650\n",
            "Epoch 20/30\n",
            "25/25 - 0s - loss: 0.3678 - accuracy: 0.8575 - val_loss: 0.4858 - val_accuracy: 0.7650\n",
            "Epoch 21/30\n",
            "25/25 - 0s - loss: 0.3546 - accuracy: 0.8625 - val_loss: 0.4883 - val_accuracy: 0.7750\n",
            "Epoch 22/30\n",
            "25/25 - 0s - loss: 0.3472 - accuracy: 0.8637 - val_loss: 0.4827 - val_accuracy: 0.7700\n",
            "Epoch 23/30\n",
            "25/25 - 0s - loss: 0.3328 - accuracy: 0.8675 - val_loss: 0.4857 - val_accuracy: 0.7600\n",
            "Epoch 24/30\n",
            "25/25 - 0s - loss: 0.3242 - accuracy: 0.8712 - val_loss: 0.4892 - val_accuracy: 0.7900\n",
            "Epoch 25/30\n",
            "25/25 - 0s - loss: 0.3170 - accuracy: 0.8712 - val_loss: 0.4918 - val_accuracy: 0.7900\n",
            "Epoch 26/30\n",
            "25/25 - 0s - loss: 0.3105 - accuracy: 0.8637 - val_loss: 0.4983 - val_accuracy: 0.7950\n",
            "Epoch 27/30\n",
            "25/25 - 0s - loss: 0.3031 - accuracy: 0.8712 - val_loss: 0.4980 - val_accuracy: 0.7600\n",
            "Epoch 28/30\n",
            "25/25 - 0s - loss: 0.3009 - accuracy: 0.8650 - val_loss: 0.5046 - val_accuracy: 0.7750\n",
            "Epoch 29/30\n",
            "25/25 - 0s - loss: 0.2944 - accuracy: 0.8775 - val_loss: 0.5088 - val_accuracy: 0.7500\n",
            "Epoch 30/30\n",
            "25/25 - 0s - loss: 0.2863 - accuracy: 0.8800 - val_loss: 0.5187 - val_accuracy: 0.8000\n"
          ],
          "name": "stdout"
        }
      ]
    },
    {
      "cell_type": "code",
      "metadata": {
        "id": "FlbxlNhYlC1h"
      },
      "source": [
        ""
      ],
      "execution_count": null,
      "outputs": []
    }
  ]
}